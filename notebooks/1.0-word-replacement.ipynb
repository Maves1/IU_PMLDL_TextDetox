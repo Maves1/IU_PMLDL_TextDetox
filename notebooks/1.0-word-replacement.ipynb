{
 "cells": [
  {
   "cell_type": "markdown",
   "metadata": {},
   "source": [
    "# Dictionary-based Word Replacement\n",
    "\n",
    "This is a baseline approach. We simply check each word and remove toxic ones.\n",
    "\n",
    "We can also find a dataset that contains neutral alternatives to toxic words and\n",
    "use it to replace them instead of removing completely."
   ]
  },
  {
   "cell_type": "code",
   "execution_count": null,
   "metadata": {},
   "outputs": [],
   "source": []
  }
 ],
 "metadata": {
  "language_info": {
   "name": "python"
  }
 },
 "nbformat": 4,
 "nbformat_minor": 2
}
