{
 "cells": [
  {
   "cell_type": "code",
   "execution_count": 1,
   "metadata": {},
   "outputs": [
    {
     "name": "stderr",
     "output_type": "stream",
     "text": [
      "/Users/maves/Projects/Personal/InnopolisUniversity/Semester 7/IU_PMLDL_TextDetoxifier/venv/lib/python3.11/site-packages/tqdm/auto.py:21: TqdmWarning: IProgress not found. Please update jupyter and ipywidgets. See https://ipywidgets.readthedocs.io/en/stable/user_install.html\n",
      "  from .autonotebook import tqdm as notebook_tqdm\n"
     ]
    }
   ],
   "source": [
    "import pandas as pd\n",
    "import numpy as np\n",
    "import torch\n",
    "\n",
    "from transformers import BertTokenizer, BertForMaskedLM, pipeline"
   ]
  },
  {
   "cell_type": "code",
   "execution_count": 2,
   "metadata": {},
   "outputs": [],
   "source": [
    "# device = torch.device(\"mps\")\n",
    "device = torch.device(\"cpu\")\n",
    "# device = \"cuda\""
   ]
  },
  {
   "cell_type": "code",
   "execution_count": 3,
   "metadata": {},
   "outputs": [
    {
     "name": "stderr",
     "output_type": "stream",
     "text": [
      "Some weights of the model checkpoint at bert-base-uncased were not used when initializing BertForMaskedLM: ['bert.pooler.dense.bias', 'cls.seq_relationship.weight', 'cls.seq_relationship.bias', 'bert.pooler.dense.weight']\n",
      "- This IS expected if you are initializing BertForMaskedLM from the checkpoint of a model trained on another task or with another architecture (e.g. initializing a BertForSequenceClassification model from a BertForPreTraining model).\n",
      "- This IS NOT expected if you are initializing BertForMaskedLM from the checkpoint of a model that you expect to be exactly identical (initializing a BertForSequenceClassification model from a BertForSequenceClassification model).\n"
     ]
    },
    {
     "data": {
      "text/plain": [
       "BertForMaskedLM(\n",
       "  (bert): BertModel(\n",
       "    (embeddings): BertEmbeddings(\n",
       "      (word_embeddings): Embedding(30522, 768, padding_idx=0)\n",
       "      (position_embeddings): Embedding(512, 768)\n",
       "      (token_type_embeddings): Embedding(2, 768)\n",
       "      (LayerNorm): LayerNorm((768,), eps=1e-12, elementwise_affine=True)\n",
       "      (dropout): Dropout(p=0.1, inplace=False)\n",
       "    )\n",
       "    (encoder): BertEncoder(\n",
       "      (layer): ModuleList(\n",
       "        (0-11): 12 x BertLayer(\n",
       "          (attention): BertAttention(\n",
       "            (self): BertSelfAttention(\n",
       "              (query): Linear(in_features=768, out_features=768, bias=True)\n",
       "              (key): Linear(in_features=768, out_features=768, bias=True)\n",
       "              (value): Linear(in_features=768, out_features=768, bias=True)\n",
       "              (dropout): Dropout(p=0.1, inplace=False)\n",
       "            )\n",
       "            (output): BertSelfOutput(\n",
       "              (dense): Linear(in_features=768, out_features=768, bias=True)\n",
       "              (LayerNorm): LayerNorm((768,), eps=1e-12, elementwise_affine=True)\n",
       "              (dropout): Dropout(p=0.1, inplace=False)\n",
       "            )\n",
       "          )\n",
       "          (intermediate): BertIntermediate(\n",
       "            (dense): Linear(in_features=768, out_features=3072, bias=True)\n",
       "            (intermediate_act_fn): GELUActivation()\n",
       "          )\n",
       "          (output): BertOutput(\n",
       "            (dense): Linear(in_features=3072, out_features=768, bias=True)\n",
       "            (LayerNorm): LayerNorm((768,), eps=1e-12, elementwise_affine=True)\n",
       "            (dropout): Dropout(p=0.1, inplace=False)\n",
       "          )\n",
       "        )\n",
       "      )\n",
       "    )\n",
       "  )\n",
       "  (cls): BertOnlyMLMHead(\n",
       "    (predictions): BertLMPredictionHead(\n",
       "      (transform): BertPredictionHeadTransform(\n",
       "        (dense): Linear(in_features=768, out_features=768, bias=True)\n",
       "        (transform_act_fn): GELUActivation()\n",
       "        (LayerNorm): LayerNorm((768,), eps=1e-12, elementwise_affine=True)\n",
       "      )\n",
       "      (decoder): Linear(in_features=768, out_features=30522, bias=True)\n",
       "    )\n",
       "  )\n",
       ")"
      ]
     },
     "execution_count": 3,
     "metadata": {},
     "output_type": "execute_result"
    }
   ],
   "source": [
    "model_name = \"bert-base-uncased\"\n",
    "\n",
    "bert_tokenizer = BertTokenizer.from_pretrained(model_name)\n",
    "model = BertForMaskedLM.from_pretrained(model_name)\n",
    "model.to(device)"
   ]
  },
  {
   "cell_type": "markdown",
   "metadata": {},
   "source": [
    "We know that our Bert is pretrained. Let's mask toxic words ourselves using a dictionary, and give the masked inputs to the model!"
   ]
  },
  {
   "cell_type": "code",
   "execution_count": 4,
   "metadata": {},
   "outputs": [],
   "source": [
    "def load_toxic_words(path: str) -> set:\n",
    "    file = open(path)\n",
    "\n",
    "    toxic_words = set(file.read().strip().split(\"\\n\"))\n",
    "\n",
    "    file.close()\n",
    "\n",
    "    return toxic_words\n",
    "\n",
    "def mask_toxic_words(sentence: str, toxic_set: set):\n",
    "    mask_token = \"[MASK]\"\n",
    "\n",
    "    split = sentence.strip().split()\n",
    "    masked = []\n",
    "    for word in split:\n",
    "        if word not in toxic_set:\n",
    "            masked.append(word)\n",
    "        else:\n",
    "            masked.append(mask_token)\n",
    "    \n",
    "    return \" \".join(masked)"
   ]
  },
  {
   "cell_type": "code",
   "execution_count": 5,
   "metadata": {},
   "outputs": [],
   "source": [
    "toxic_words_path = \"../data/raw/toxic_words.txt\"\n",
    "\n",
    "toxic_words_set = load_toxic_words(toxic_words_path)"
   ]
  },
  {
   "cell_type": "code",
   "execution_count": 6,
   "metadata": {},
   "outputs": [],
   "source": [
    "test_sentence = \"hello, you fuck ! Can't you just read that fucking sign?\"\n",
    "\n",
    "generator = pipeline(\"fill-mask\", model=model, tokenizer=bert_tokenizer)\n",
    "\n",
    "input_text = mask_toxic_words(test_sentence, toxic_words_set)\n",
    "generated_text = generator(input_text)\n"
   ]
  },
  {
   "cell_type": "code",
   "execution_count": 7,
   "metadata": {},
   "outputs": [
    {
     "data": {
      "text/plain": [
       "[[{'score': 0.19414223730564117,\n",
       "   'token': 10041,\n",
       "   'token_str': 'idiot',\n",
       "   'sequence': \"[CLS] hello, you idiot! can't you just read that [MASK] sign? [SEP]\"},\n",
       "  {'score': 0.10547658056020737,\n",
       "   'token': 2048,\n",
       "   'token_str': 'two',\n",
       "   'sequence': \"[CLS] hello, you two! can't you just read that [MASK] sign? [SEP]\"},\n",
       "  {'score': 0.03941063582897186,\n",
       "   'token': 4364,\n",
       "   'token_str': 'guys',\n",
       "   'sequence': \"[CLS] hello, you guys! can't you just read that [MASK] sign? [SEP]\"},\n",
       "  {'score': 0.0375501811504364,\n",
       "   'token': 7966,\n",
       "   'token_str': 'fool',\n",
       "   'sequence': \"[CLS] hello, you fool! can't you just read that [MASK] sign? [SEP]\"},\n",
       "  {'score': 0.03160572424530983,\n",
       "   'token': 7743,\n",
       "   'token_str': 'bitch',\n",
       "   'sequence': \"[CLS] hello, you bitch! can't you just read that [MASK] sign? [SEP]\"}],\n",
       " [{'score': 0.14270180463790894,\n",
       "   'token': 4365,\n",
       "   'token_str': 'damn',\n",
       "   'sequence': \"[CLS] hello, you [MASK]! can't you just read that damn sign? [SEP]\"},\n",
       "  {'score': 0.13051149249076843,\n",
       "   'token': 5236,\n",
       "   'token_str': 'stupid',\n",
       "   'sequence': \"[CLS] hello, you [MASK]! can't you just read that stupid sign? [SEP]\"},\n",
       "  {'score': 0.054966311901807785,\n",
       "   'token': 2644,\n",
       "   'token_str': 'stop',\n",
       "   'sequence': \"[CLS] hello, you [MASK]! can't you just read that stop sign? [SEP]\"},\n",
       "  {'score': 0.05334523320198059,\n",
       "   'token': 16231,\n",
       "   'token_str': 'neon',\n",
       "   'sequence': \"[CLS] hello, you [MASK]! can't you just read that neon sign? [SEP]\"},\n",
       "  {'score': 0.020263763144612312,\n",
       "   'token': 2210,\n",
       "   'token_str': 'little',\n",
       "   'sequence': \"[CLS] hello, you [MASK]! can't you just read that little sign? [SEP]\"}]]"
      ]
     },
     "execution_count": 7,
     "metadata": {},
     "output_type": "execute_result"
    }
   ],
   "source": [
    "generated_text"
   ]
  }
 ],
 "metadata": {
  "kernelspec": {
   "display_name": "venv",
   "language": "python",
   "name": "python3"
  },
  "language_info": {
   "codemirror_mode": {
    "name": "ipython",
    "version": 3
   },
   "file_extension": ".py",
   "mimetype": "text/x-python",
   "name": "python",
   "nbconvert_exporter": "python",
   "pygments_lexer": "ipython3",
   "version": "3.11.6"
  }
 },
 "nbformat": 4,
 "nbformat_minor": 2
}
